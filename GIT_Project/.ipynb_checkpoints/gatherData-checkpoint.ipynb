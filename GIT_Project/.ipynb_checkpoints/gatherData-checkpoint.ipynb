{
 "cells": [
  {
   "cell_type": "code",
   "execution_count": 12,
   "metadata": {},
   "outputs": [
    {
     "name": "stdout",
     "output_type": "stream",
     "text": [
      "WIKI/AEMD\n",
      "(Status 404) (Quandl Error QECx02) You have submitted an incorrect Quandl code. Please check your Quandl codes and try again.\n",
      "AEMD\n",
      "(Status 404) (Quandl Error QECx02) You have submitted an incorrect Quandl code. Please check your Quandl codes and try again.\n",
      "WIKI/BABY\n",
      "WIKI/BDX\n",
      "WIKI/CASM\n",
      "(Status 404) (Quandl Error QECx02) You have submitted an incorrect Quandl code. Please check your Quandl codes and try again.\n",
      "CASM\n",
      "(Status 404) (Quandl Error QECx02) You have submitted an incorrect Quandl code. Please check your Quandl codes and try again.\n",
      "WIKI/CGNT\n",
      "(Status 404) (Quandl Error QECx02) You have submitted an incorrect Quandl code. Please check your Quandl codes and try again.\n",
      "CGNT\n",
      "(Status 404) (Quandl Error QECx02) You have submitted an incorrect Quandl code. Please check your Quandl codes and try again.\n",
      "WIKI/CRH\n",
      "(Status 404) (Quandl Error QECx02) You have submitted an incorrect Quandl code. Please check your Quandl codes and try again.\n",
      "CRH\n",
      "(Status 404) (Quandl Error QECx02) You have submitted an incorrect Quandl code. Please check your Quandl codes and try again.\n",
      "WIKI/CRRVF\n",
      "(Status 404) (Quandl Error QECx02) You have submitted an incorrect Quandl code. Please check your Quandl codes and try again.\n",
      "CRRVF\n",
      "(Status 404) (Quandl Error QECx02) You have submitted an incorrect Quandl code. Please check your Quandl codes and try again.\n",
      "WIKI/CVM\n",
      "(Status 404) (Quandl Error QECx02) You have submitted an incorrect Quandl code. Please check your Quandl codes and try again.\n",
      "CVM\n",
      "(Status 404) (Quandl Error QECx02) You have submitted an incorrect Quandl code. Please check your Quandl codes and try again.\n",
      "WIKI/DR\n",
      "(Status 404) (Quandl Error QECx02) You have submitted an incorrect Quandl code. Please check your Quandl codes and try again.\n",
      "DR\n",
      "(Status 404) (Quandl Error QECx02) You have submitted an incorrect Quandl code. Please check your Quandl codes and try again.\n",
      "WIKI/ENTL\n",
      "(Status 404) (Quandl Error QECx02) You have submitted an incorrect Quandl code. Please check your Quandl codes and try again.\n",
      "ENTL\n",
      "(Status 404) (Quandl Error QECx02) You have submitted an incorrect Quandl code. Please check your Quandl codes and try again.\n",
      "WIKI/EYES\n",
      "(Status 404) (Quandl Error QECx02) You have submitted an incorrect Quandl code. Please check your Quandl codes and try again.\n",
      "EYES\n",
      "(Status 404) (Quandl Error QECx02) You have submitted an incorrect Quandl code. Please check your Quandl codes and try again.\n",
      "WIKI/GMED\n",
      "WIKI/HSM\n",
      "(Status 404) (Quandl Error QECx02) You have submitted an incorrect Quandl code. Please check your Quandl codes and try again.\n",
      "HSM\n",
      "(Status 404) (Quandl Error QECx02) You have submitted an incorrect Quandl code. Please check your Quandl codes and try again.\n",
      "WIKI/ICUI\n",
      "WIKI/IHI\n",
      "(Status 404) (Quandl Error QECx02) You have submitted an incorrect Quandl code. Please check your Quandl codes and try again.\n",
      "IHI\n",
      "(Status 404) (Quandl Error QECx02) You have submitted an incorrect Quandl code. Please check your Quandl codes and try again.\n",
      "WIKI/IMEXF\n",
      "(Status 404) (Quandl Error QECx02) You have submitted an incorrect Quandl code. Please check your Quandl codes and try again.\n",
      "IMEXF\n",
      "(Status 404) (Quandl Error QECx02) You have submitted an incorrect Quandl code. Please check your Quandl codes and try again.\n",
      "WIKI/JNJ\n",
      "WIKI/MBOT\n",
      "(Status 404) (Quandl Error QECx02) You have submitted an incorrect Quandl code. Please check your Quandl codes and try again.\n",
      "MBOT\n",
      "(Status 404) (Quandl Error QECx02) You have submitted an incorrect Quandl code. Please check your Quandl codes and try again.\n",
      "WIKI/MDCL\n",
      "(Status 404) (Quandl Error QECx02) You have submitted an incorrect Quandl code. Please check your Quandl codes and try again.\n",
      "MDCL\n",
      "(Status 404) (Quandl Error QECx02) You have submitted an incorrect Quandl code. Please check your Quandl codes and try again.\n",
      "WIKI/MIHI\n",
      "(Status 404) (Quandl Error QECx02) You have submitted an incorrect Quandl code. Please check your Quandl codes and try again.\n",
      "MIHI\n",
      "(Status 404) (Quandl Error QECx02) You have submitted an incorrect Quandl code. Please check your Quandl codes and try again.\n",
      "WIKI/MJNA\n",
      "(Status 404) (Quandl Error QECx02) You have submitted an incorrect Quandl code. Please check your Quandl codes and try again.\n",
      "MJNA\n",
      "(Status 404) (Quandl Error QECx02) You have submitted an incorrect Quandl code. Please check your Quandl codes and try again.\n",
      "WIKI/MMSI\n",
      "WIKI/MPW\n",
      "WIKI/NDEV\n",
      "(Status 404) (Quandl Error QECx02) You have submitted an incorrect Quandl code. Please check your Quandl codes and try again.\n",
      "NDEV\n",
      "(Status 404) (Quandl Error QECx02) You have submitted an incorrect Quandl code. Please check your Quandl codes and try again.\n",
      "WIKI/NXTM\n",
      "WIKI/RMTI\n",
      "WIKI/RVA\n",
      "(Status 404) (Quandl Error QECx02) You have submitted an incorrect Quandl code. Please check your Quandl codes and try again.\n",
      "RVA\n",
      "(Status 404) (Quandl Error QECx02) You have submitted an incorrect Quandl code. Please check your Quandl codes and try again.\n",
      "WIKI/SEM\n",
      "WIKI/SHOM\n",
      "(Status 404) (Quandl Error QECx02) You have submitted an incorrect Quandl code. Please check your Quandl codes and try again.\n",
      "SHOM\n",
      "(Status 404) (Quandl Error QECx02) You have submitted an incorrect Quandl code. Please check your Quandl codes and try again.\n",
      "WIKI/SYK\n",
      "WIKI/TITXF\n",
      "(Status 404) (Quandl Error QECx02) You have submitted an incorrect Quandl code. Please check your Quandl codes and try again.\n",
      "TITXF\n",
      "(Status 404) (Quandl Error QECx02) You have submitted an incorrect Quandl code. Please check your Quandl codes and try again.\n",
      "WIKI/TMD\n",
      "(Status 404) (Quandl Error QECx02) You have submitted an incorrect Quandl code. Please check your Quandl codes and try again.\n",
      "TMD\n",
      "(Status 404) (Quandl Error QECx02) You have submitted an incorrect Quandl code. Please check your Quandl codes and try again.\n",
      "WIKI/TURV\n",
      "(Status 404) (Quandl Error QECx02) You have submitted an incorrect Quandl code. Please check your Quandl codes and try again.\n",
      "TURV\n",
      "(Status 404) (Quandl Error QECx02) You have submitted an incorrect Quandl code. Please check your Quandl codes and try again.\n",
      "WIKI/UNH\n",
      "WIKI/UTMD\n",
      "WIKI/VIVE\n",
      "(Status 404) (Quandl Error QECx02) You have submitted an incorrect Quandl code. Please check your Quandl codes and try again.\n",
      "VIVE\n",
      "(Status 404) (Quandl Error QECx02) You have submitted an incorrect Quandl code. Please check your Quandl codes and try again.\n",
      "WIKI/WMGI\n",
      "WIKI/XTNT\n",
      "(Status 404) (Quandl Error QECx02) You have submitted an incorrect Quandl code. Please check your Quandl codes and try again.\n",
      "XTNT\n",
      "(Status 404) (Quandl Error QECx02) You have submitted an incorrect Quandl code. Please check your Quandl codes and try again.\n"
     ]
    }
   ],
   "source": [
    "import pandas as pd\n",
    "import os\n",
    "import quandl\n",
    "import time\n",
    "import datetime\n",
    "\n",
    "auth_tok = \"L-pbw1X7QL9tTMZ9s2xr\"\n",
    "path = \"./MedicalStocks\"\n",
    "def Stock_Prices():\n",
    "\tdf = pd.DataFrame()\n",
    "\tstatspath = path #+\"/_KeyStats\"\n",
    "\t#print (statspath)\n",
    "\tstock_list = [x[0] for x in os.walk(statspath)]\n",
    "\t#print(stock_list)\n",
    "\tfor each_dir in stock_list[1:100]:\n",
    "\t\ttry:\n",
    "\t\t\tticker = each_dir.split(\"/\")[-1]\n",
    "\t\t\tname = ticker.upper()\n",
    "\t\t\tprint(name)\n",
    "\t\t\tdata = quandl.get(name,\n",
    "\t\t\t\ttrim_start = \"2004-12-12\",\n",
    "\t\t\t\ttrim_end = f\"{datetime.datetime.now():%Y-%m-%d}\",\n",
    "\t\t\t\tauthtoken=auth_tok)\n",
    "\t\t\tdata[ticker.upper()] = data[\"Adj. Close\"]\n",
    "\t\t\t#print (df)\n",
    "\t\t\t#print(data[ticker.upper()])\n",
    "\t\t\tdf = pd.concat([df, data[ticker.upper()]], axis = 1)\n",
    "\t\texcept Exception as e:\n",
    "\t\t\tprint(str(e))\n",
    "\t\t\ttime.sleep(10)\n",
    "\t\t\ttry:\n",
    "\t\t\t\tticker = each_dir.split(\"/\")[-1]\n",
    "\t\t\t\tprint(ticker)\n",
    "\t\t\t\tname =  ticker.upper()\n",
    "\t\t\t\tdata = quandl.get(name,\n",
    "\t\t\t\t\ttrim_start = \"2004-12-12\",\n",
    "\t\t\t\t\ttrim_end = f\"{datetime.datetime.now():%Y-%m-%d}\",\n",
    "\t\t\t\t\tauthtoken=auth_tok)\n",
    "\t\t\t\tdata[ticker.upper()] = data[\"Adj. Close\"]\n",
    "\t\t\t\tdf = pd.concat([df, data[ticker.upper()]], axis = 1)\n",
    "\t\t\texcept Exception as e:\n",
    "\t\t\t\tprint(str(e))\n",
    "\tdf.to_csv(\"medical_stock_prices.csv\")\n",
    "                \n",
    "\n",
    "if __name__ == \"__main__\":\n",
    "\tStock_Prices()"
   ]
  },
  {
   "cell_type": "code",
   "execution_count": 6,
   "metadata": {},
   "outputs": [
    {
     "data": {
      "text/plain": [
       "'2018-02-28'"
      ]
     },
     "execution_count": 6,
     "metadata": {},
     "output_type": "execute_result"
    }
   ],
   "source": [
    "f\"{datetime.datetime.now():%Y-%m-%d}\"\n"
   ]
  },
  {
   "cell_type": "code",
   "execution_count": 29,
   "metadata": {},
   "outputs": [
    {
     "data": {
      "text/plain": [
       "(500,)"
      ]
     },
     "execution_count": 29,
     "metadata": {},
     "output_type": "execute_result"
    }
   ],
   "source": [
    "data = pd.read_csv('../WIKI-datasets-codes.csv')\n",
    "data = data.values\n",
    "data[1:501,0].shape\n"
   ]
  },
  {
   "cell_type": "code",
   "execution_count": null,
   "metadata": {},
   "outputs": [],
   "source": []
  }
 ],
 "metadata": {
  "kernelspec": {
   "display_name": "Python 3",
   "language": "python",
   "name": "python3"
  },
  "language_info": {
   "codemirror_mode": {
    "name": "ipython",
    "version": 3
   },
   "file_extension": ".py",
   "mimetype": "text/x-python",
   "name": "python",
   "nbconvert_exporter": "python",
   "pygments_lexer": "ipython3",
   "version": "3.6.2"
  }
 },
 "nbformat": 4,
 "nbformat_minor": 2
}
