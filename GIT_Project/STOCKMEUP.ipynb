{
 "cells": [
  {
   "cell_type": "code",
   "execution_count": 1,
   "metadata": {},
   "outputs": [],
   "source": [
    "import tensorflow as tf\n",
    "import numpy as np\n",
    "import pandas as pd\n",
    "from sklearn.preprocessing import MinMaxScaler\n",
    "import matplotlib.pyplot as plt\n",
    "\n",
    "# Import data\n",
    "Data = pd.read_csv('medical_stock_prices.csv')\n",
    "\n",
    "# Drop date variable\n",
    "Data = Data.drop(['Date'], 1)"
   ]
  },
  {
   "cell_type": "code",
   "execution_count": null,
   "metadata": {},
   "outputs": [],
   "source": []
  },
  {
   "cell_type": "code",
   "execution_count": 2,
   "metadata": {},
   "outputs": [],
   "source": [
    "data_trimmed = Data\n",
    "for column in Data:\n",
    "    if np.count_nonzero(~np.isnan(Data[column])) < Data.shape[0]-2:\n",
    "        #print (np.count_nonzero(~np.isnan(data[column])))\n",
    "        data_trimmed = data_trimmed.drop([column], 1)"
   ]
  },
  {
   "cell_type": "code",
   "execution_count": null,
   "metadata": {},
   "outputs": [],
   "source": []
  },
  {
   "cell_type": "code",
   "execution_count": 3,
   "metadata": {},
   "outputs": [
    {
     "data": {
      "text/plain": [
       "(4330, 560)"
      ]
     },
     "execution_count": 3,
     "metadata": {},
     "output_type": "execute_result"
    }
   ],
   "source": [
    "n = data_trimmed.shape[0]\n",
    "p = data_trimmed.shape[1]\n",
    "\n",
    "# Make data a np.array\n",
    "data = data_trimmed.dropna()\n",
    "data = data_trimmed.values\n",
    "(n, p)"
   ]
  },
  {
   "cell_type": "code",
   "execution_count": 4,
   "metadata": {},
   "outputs": [
    {
     "data": {
      "text/plain": [
       "array([[ 39.05827928,   4.19348132,   1.63387224, ..., 193.        ,\n",
       "          4.70359518,  48.28511758],\n",
       "       [ 39.69958552,   4.19348132,   1.64375147, ..., 191.19      ,\n",
       "          4.55467216,  47.83490669],\n",
       "       [ 40.42276065,   4.19348132,   1.63387224, ..., 190.13      ,\n",
       "          4.44001462,  46.75761636],\n",
       "       ...,\n",
       "       [ 70.58      ,  45.62      ,  35.75      , ..., 611.12      ,\n",
       "         80.57      ,  56.29      ],\n",
       "       [ 69.        ,  45.95      ,  38.65      , ..., 609.84      ,\n",
       "         80.18      ,  55.74      ],\n",
       "       [ 68.59      ,  46.21      ,  36.75      , ..., 606.15      ,\n",
       "         81.38      ,  54.97      ]])"
      ]
     },
     "execution_count": 4,
     "metadata": {},
     "output_type": "execute_result"
    }
   ],
   "source": [
    "data"
   ]
  },
  {
   "cell_type": "code",
   "execution_count": 5,
   "metadata": {},
   "outputs": [
    {
     "data": {
      "text/plain": [
       "(4328, 560)"
      ]
     },
     "execution_count": 5,
     "metadata": {},
     "output_type": "execute_result"
    }
   ],
   "source": [
    "data = data[~np.isnan(data).any(axis=1)]\n",
    "data.shape"
   ]
  },
  {
   "cell_type": "code",
   "execution_count": 6,
   "metadata": {},
   "outputs": [],
   "source": [
    "train_start = 0\n",
    "train_end = int(np.floor(0.8*n))\n",
    "test_start = train_end + 1\n",
    "test_end = n-50\n",
    "data_train = data[np.arange(train_start, train_end), :]\n",
    "data_test = data[np.arange(test_start, test_end), :]"
   ]
  },
  {
   "cell_type": "code",
   "execution_count": 7,
   "metadata": {},
   "outputs": [
    {
     "data": {
      "text/plain": [
       "(3464, 560)"
      ]
     },
     "execution_count": 7,
     "metadata": {},
     "output_type": "execute_result"
    }
   ],
   "source": [
    "data_train.shape"
   ]
  },
  {
   "cell_type": "code",
   "execution_count": 8,
   "metadata": {},
   "outputs": [
    {
     "data": {
      "text/plain": [
       "0"
      ]
     },
     "execution_count": 8,
     "metadata": {},
     "output_type": "execute_result"
    }
   ],
   "source": [
    "np.count_nonzero(np.isnan(data_train))"
   ]
  },
  {
   "cell_type": "code",
   "execution_count": 30,
   "metadata": {},
   "outputs": [
    {
     "data": {
      "text/plain": [
       "((3459, 560), (3459,), (810, 560), (810,))"
      ]
     },
     "execution_count": 30,
     "metadata": {},
     "output_type": "execute_result"
    }
   ],
   "source": [
    "# Scale data\n",
    "scaler = MinMaxScaler(feature_range=(-1, 1))\n",
    "scaler.fit(data_train)\n",
    "data_train = scaler.transform(data_train)\n",
    "data_test = scaler.transform(data_test)\n",
    "\n",
    "# Build X and y\n",
    "X_train = data_train[0:-5, 0:]\n",
    "y_train = data_train[5:, 0]\n",
    "X_test = data_test[0:-5, 0:]\n",
    "y_test = data_test[5:, 0]\n",
    "\n",
    "#y_train/ test should be A and AAN\n",
    "\n",
    "(X_train.shape, y_train.shape, X_test.shape, y_test.shape)\n"
   ]
  },
  {
   "cell_type": "code",
   "execution_count": 31,
   "metadata": {},
   "outputs": [
    {
     "data": {
      "image/png": "[encoded data removed]",
      "text/plain": [
       "<matplotlib.figure.Figure at 0x114e234e0>"
      ]
     },
     "metadata": {},
     "output_type": "display_data"
    }
   ],
   "source": [
    "plt.plot(X_train[-50:, 0])\n",
    "plt.plot(y_train[-50:])\n",
    "plt.legend([\"X_train\", \"Y_train\"])\n",
    "plt.show()"
   ]
  },
  {
   "cell_type": "code",
   "execution_count": 32,
   "metadata": {},
   "outputs": [
    {
     "data": {
      "image/png": "[encoded data removed]",
      "text/plain": [
       "<matplotlib.figure.Figure at 0x114ecca58>"
      ]
     },
     "metadata": {},
     "output_type": "display_data"
    }
   ],
   "source": [
    "plt.plot(X_test[-50:, 0])\n",
    "plt.plot(y_test[-50:])\n",
    "plt.legend([\"X_train\", \"Y_train\"])\n",
    "plt.show()"
   ]
  },
  {
   "cell_type": "code",
   "execution_count": 33,
   "metadata": {},
   "outputs": [
    {
     "data": {
      "text/plain": [
       "(array([0.71672931, 0.71636779, 0.70299135, 0.71130643, 0.70154525]),\n",
       " array([0.71672931, 0.71636779, 0.70299135, 0.71130643, 0.70154525]))"
      ]
     },
     "execution_count": 33,
     "metadata": {},
     "output_type": "execute_result"
    }
   ],
   "source": [
    "(X_train[-10:-5, 0], y_train[-15:-10])"
   ]
  },
  {
   "cell_type": "code",
   "execution_count": 378,
   "metadata": {},
   "outputs": [],
   "source": []
  },
  {
   "cell_type": "code",
   "execution_count": 34,
   "metadata": {},
   "outputs": [],
   "source": [
    "# Number of stocks in training data\n",
    "n_stocks = X_train.shape[1]\n",
    "\n",
    "# Neurons\n",
    "n_neurons_1 = 1024\n",
    "n_neurons_2 = 512\n",
    "n_neurons_3 = 256\n",
    "n_neurons_4 = 128\n",
    "\n",
    "# Session\n",
    "net = tf.InteractiveSession()\n",
    "\n",
    "# Placeholder\n",
    "X = tf.placeholder(dtype=tf.float32, shape=[None, n_stocks])\n",
    "Y = tf.placeholder(dtype=tf.float32, shape=[None])\n",
    "\n",
    "# Initializers\n",
    "sigma = 1\n",
    "weight_initializer = tf.variance_scaling_initializer(mode=\"fan_avg\", distribution=\"uniform\", scale=sigma)\n",
    "bias_initializer = tf.zeros_initializer()\n",
    "\n",
    "# Hidden weights\n",
    "W_hidden_1 = tf.Variable(weight_initializer([n_stocks, n_neurons_1]))\n",
    "bias_hidden_1 = tf.Variable(bias_initializer([n_neurons_1]))\n",
    "W_hidden_4 = tf.Variable(weight_initializer([n_neurons_1, n_neurons_4]))\n",
    "bias_hidden_4 = tf.Variable(bias_initializer([n_neurons_4]))\n",
    "\n",
    "# Output weights\n",
    "W_out = tf.Variable(weight_initializer([n_neurons_4, 1]))\n",
    "bias_out = tf.Variable(bias_initializer([1]))\n",
    "\n",
    "# Hidden layer\n",
    "hidden_1 = tf.nn.relu(tf.add(tf.matmul(X, W_hidden_1), bias_hidden_1))\n",
    "hidden_4 = tf.nn.relu(tf.add(tf.matmul(hidden_1, W_hidden_4), bias_hidden_4))"
   ]
  },
  {
   "cell_type": "code",
   "execution_count": 35,
   "metadata": {},
   "outputs": [
    {
     "data": {
      "image/png": "[encoded data removed]",
      "text/plain": [
       "<matplotlib.figure.Figure at 0x115fabcf8>"
      ]
     },
     "metadata": {},
     "output_type": "display_data"
    }
   ],
   "source": [
    "# Output layer (transpose!)\n",
    "out = tf.transpose(tf.add(tf.matmul(hidden_4, W_out), bias_out))\n",
    "\n",
    "# Cost function\n",
    "mse = tf.reduce_mean(tf.squared_difference(out, Y))\n",
    "\n",
    "# Optimizer\n",
    "opt = tf.train.AdamOptimizer().minimize(mse)\n",
    "\n",
    "# Init\n",
    "net.run(tf.global_variables_initializer())\n",
    "# Setup plot\n",
    "plt.ion()\n",
    "fig = plt.figure()\n",
    "ax1 = fig.add_subplot(111)\n",
    "line1, = ax1.plot(y_test[:])\n",
    "line2, = ax1.plot(y_test[:] * 0.5)\n",
    "plt.show()\n"
   ]
  },
  {
   "cell_type": "code",
   "execution_count": 36,
   "metadata": {},
   "outputs": [],
   "source": [
    "# Fit neural net\n",
    "batch_size = 256\n",
    "mse_train = []\n",
    "mse_test = []"
   ]
  },
  {
   "cell_type": "code",
   "execution_count": 37,
   "metadata": {},
   "outputs": [
    {
     "name": "stdout",
     "output_type": "stream",
     "text": [
      "MSE Train:  4.185033\n",
      "MSE Test:  0.6125468\n",
      "\n",
      "\n",
      "MSE Train:  2.0429683\n",
      "MSE Test:  37.548298\n",
      "\n",
      "\n",
      "MSE Train:  7.0154157\n",
      "MSE Test:  185.65553\n",
      "\n",
      "\n",
      "MSE Train:  2.6704938\n",
      "MSE Test:  39.149803\n",
      "\n",
      "\n",
      "MSE Train:  0.8099595\n",
      "MSE Test:  0.1742995\n",
      "\n",
      "\n",
      "MSE Train:  0.23393546\n",
      "MSE Test:  2.528369\n",
      "\n",
      "\n",
      "MSE Train:  0.24537532\n",
      "MSE Test:  0.13200444\n",
      "\n",
      "\n",
      "MSE Train:  0.19116364\n",
      "MSE Test:  5.0282\n",
      "\n",
      "\n",
      "MSE Train:  0.11010488\n",
      "MSE Test:  1.8935643\n",
      "\n",
      "\n",
      "MSE Train:  0.057521485\n",
      "MSE Test:  1.7956735\n",
      "\n",
      "\n",
      "MSE Train:  0.0303037\n",
      "MSE Test:  0.09008321\n",
      "\n",
      "\n",
      "MSE Train:  0.0335063\n",
      "MSE Test:  0.08829968\n",
      "\n",
      "\n",
      "MSE Train:  0.03047565\n",
      "MSE Test:  0.19713329\n",
      "\n",
      "\n",
      "MSE Train:  0.017929781\n",
      "MSE Test:  0.08801983\n",
      "\n",
      "\n",
      "MSE Train:  0.01757254\n",
      "MSE Test:  0.10317655\n",
      "\n",
      "\n"
     ]
    }
   ],
   "source": [
    "# Run\n",
    "epochs = 15\n",
    "for e in range(epochs):\n",
    "\n",
    "    # Shuffle training data\n",
    "    #shuffle_indices = np.random.permutation(np.arange(len(y_train)))\n",
    "    #X_train = X_train[shuffle_indices]\n",
    "    #y_train = y_train[shuffle_indices]\n",
    "\n",
    "    # Minibatch training\n",
    "    for i in range(0, len(y_train) // batch_size):\n",
    "        start = i * batch_size\n",
    "        batch_x = X_train[start:start + batch_size]\n",
    "        batch_y = y_train[start:start + batch_size]\n",
    "        # Run optimizer with batch\n",
    "        net.run(opt, feed_dict={X: batch_x, Y: batch_y})\n",
    "\n",
    "        # Show progress\n",
    "        if np.mod(i, 50) == 0:\n",
    "            # MSE train and test\n",
    "            mse_train.append(net.run(mse, feed_dict={X: X_train, Y: y_train}))\n",
    "            mse_test.append(net.run(mse, feed_dict={X: X_test, Y: y_test}))\n",
    "            print('MSE Train: ', mse_train[-1])\n",
    "            print('MSE Test: ', mse_test[-1])\n",
    "            print('\\n')\n",
    "            # Prediction\n",
    "            pred = net.run(out, feed_dict={X: X_test})\n",
    "            #line2.set_ydata(pred)\n",
    "            #plt.title('Epoch ' + str(e) + ', Batch ' + str(i))\n",
    "            #plt.pause(0.01)"
   ]
  },
  {
   "cell_type": "code",
   "execution_count": 38,
   "metadata": {},
   "outputs": [
    {
     "data": {
      "text/plain": [
       "array([[ 67.61,  36.93,  35.2 , ..., 577.24,  82.3 ,  50.01],\n",
       "       [ 67.66,  38.28,  35.95, ..., 576.23,  83.11,  50.98],\n",
       "       [ 67.75,  40.71,  35.35, ..., 577.5 ,  82.86,  50.89],\n",
       "       ...,\n",
       "       [ 70.58,  45.62,  35.75, ..., 611.12,  80.57,  56.29],\n",
       "       [ 69.  ,  45.95,  38.65, ..., 609.84,  80.18,  55.74],\n",
       "       [ 68.59,  46.21,  36.75, ..., 606.15,  81.38,  54.97]])"
      ]
     },
     "execution_count": 38,
     "metadata": {},
     "output_type": "execute_result"
    }
   ],
   "source": [
    "data_last50 = data[np.arange(-50, -0), :]\n",
    "data_last50"
   ]
  },
  {
   "cell_type": "code",
   "execution_count": 39,
   "metadata": {},
   "outputs": [
    {
     "data": {
      "text/plain": [
       "((50, 560), (50,))"
      ]
     },
     "execution_count": 39,
     "metadata": {},
     "output_type": "execute_result"
    }
   ],
   "source": [
    "scaler = MinMaxScaler(feature_range=(-1, 1))\n",
    "scaler.fit(data_last50)\n",
    "data_last50 = scaler.transform(data_last50)\n",
    "\n",
    "X_last50 = data_last50[:, 0:]\n",
    "y_last50 = data_last50[:, 0]\n",
    "(X_last50.shape, y_last50.shape)"
   ]
  },
  {
   "cell_type": "code",
   "execution_count": 40,
   "metadata": {},
   "outputs": [
    {
     "data": {
      "text/plain": [
       "(50,)"
      ]
     },
     "execution_count": 40,
     "metadata": {},
     "output_type": "execute_result"
    }
   ],
   "source": [
    "pred = net.run(out, feed_dict={X: X_last50})\n",
    "pred[0].shape"
   ]
  },
  {
   "cell_type": "code",
   "execution_count": 41,
   "metadata": {},
   "outputs": [
    {
     "data": {
      "text/plain": [
       "(50, 560)"
      ]
     },
     "execution_count": 41,
     "metadata": {},
     "output_type": "execute_result"
    }
   ],
   "source": [
    "X_last50.shape"
   ]
  },
  {
   "cell_type": "code",
   "execution_count": 42,
   "metadata": {},
   "outputs": [
    {
     "data": {
      "image/png": "[encoded data removed]",
      "text/plain": [
       "<matplotlib.figure.Figure at 0x114eea358>"
      ]
     },
     "metadata": {},
     "output_type": "display_data"
    }
   ],
   "source": [
    "#plt.plot(y_last45)\n",
    "plt.plot(pred[0])\n",
    "#plt.plot(X_last50[:, 0])\n",
    "plt.plot(X_last50[:,0])\n",
    "plt.legend([\"prediction\", \"X_last[:]\"])\n",
    "plt.show()"
   ]
  },
  {
   "cell_type": "code",
   "execution_count": 422,
   "metadata": {},
   "outputs": [
    {
     "data": {
      "text/plain": [
       "array([[ 69.7 ,  40.33,  34.35, ..., 588.09,  77.88,  54.51],\n",
       "       [ 72.02,  43.79,  34.6 , ..., 589.58,  78.97,  54.75],\n",
       "       [ 71.97,  43.4 ,  35.05, ..., 595.88,  78.25,  55.07],\n",
       "       [ 71.08,  42.56,  34.35, ..., 589.09,  78.08,  54.97],\n",
       "       [ 71.25,  43.86,  34.45, ..., 591.74,  77.81,  55.86]])"
      ]
     },
     "execution_count": 422,
     "metadata": {},
     "output_type": "execute_result"
    }
   ],
   "source": [
    "X_one_week_ago = data_last50[-10:-5, 0:]\n",
    "X_one_week_ago.shape\n",
    "X_one_week_ago"
   ]
  },
  {
   "cell_type": "code",
   "execution_count": 423,
   "metadata": {},
   "outputs": [
    {
     "data": {
      "text/plain": [
       "array([57.11361 , 57.570305, 57.52961 , 57.068336, 56.835167],\n",
       "      dtype=float32)"
      ]
     },
     "execution_count": 423,
     "metadata": {},
     "output_type": "execute_result"
    }
   ],
   "source": [
    "pred = net.run(out, feed_dict={X: X_one_week_ago})\n",
    "pred[0]"
   ]
  },
  {
   "cell_type": "code",
   "execution_count": 424,
   "metadata": {},
   "outputs": [
    {
     "data": {
      "text/plain": [
       "[<matplotlib.lines.Line2D at 0x17003e978>]"
      ]
     },
     "execution_count": 424,
     "metadata": {},
     "output_type": "execute_result"
    },
    {
     "data": {
      "image/png": "[encoded data removed]",
      "text/plain": [
       "<matplotlib.figure.Figure at 0x17058e1d0>"
      ]
     },
     "metadata": {},
     "output_type": "display_data"
    }
   ],
   "source": [
    "plt.plot(pred[0])"
   ]
  },
  {
   "cell_type": "code",
   "execution_count": 425,
   "metadata": {},
   "outputs": [
    {
     "data": {
      "text/plain": [
       "[<matplotlib.lines.Line2D at 0x173d42748>]"
      ]
     },
     "execution_count": 425,
     "metadata": {},
     "output_type": "execute_result"
    },
    {
     "data": {
      "image/png": "[encoded data removed]",
      "text/plain": [
       "<matplotlib.figure.Figure at 0x16fef5d30>"
      ]
     },
     "metadata": {},
     "output_type": "display_data"
    }
   ],
   "source": [
    "plt.plot(data[-5:,0])"
   ]
  },
  {
   "cell_type": "code",
   "execution_count": 426,
   "metadata": {},
   "outputs": [
    {
     "data": {
      "text/plain": [
       "[<matplotlib.lines.Line2D at 0x158e42f98>]"
      ]
     },
     "execution_count": 426,
     "metadata": {},
     "output_type": "execute_result"
    },
    {
     "data": {
      "image/png": "[encoded data removed]",
      "text/plain": [
       "<matplotlib.figure.Figure at 0x16fadf6d8>"
      ]
     },
     "metadata": {},
     "output_type": "display_data"
    }
   ],
   "source": [
    "plt.plot(data[-10:-5,0])"
   ]
  },
  {
   "cell_type": "markdown",
   "metadata": {},
   "source": [
    "### Let's try comparing stocks with their own past week"
   ]
  },
  {
   "cell_type": "code",
   "execution_count": null,
   "metadata": {},
   "outputs": [],
   "source": []
  },
  {
   "cell_type": "code",
   "execution_count": 632,
   "metadata": {},
   "outputs": [
    {
     "data": {
      "text/plain": [
       "(1, 4330)"
      ]
     },
     "execution_count": 632,
     "metadata": {},
     "output_type": "execute_result"
    }
   ],
   "source": [
    "T = Data[['A']]\n",
    "T = T.transpose()\n",
    "T = np.array(T)\n",
    "T.shape"
   ]
  },
  {
   "cell_type": "code",
   "execution_count": null,
   "metadata": {},
   "outputs": [],
   "source": [
    "X_last = []\n",
    "for i in range(T.shape[1] - 35, T.shape[1] - 21 ):\n",
    "    X_last.append(T[0, i:i+21])\n",
    "X_last = np.array(X)\n",
    "X.shape"
   ]
  },
  {
   "cell_type": "code",
   "execution_count": 633,
   "metadata": {},
   "outputs": [
    {
     "data": {
      "text/plain": [
       "(4294, 21)"
      ]
     },
     "execution_count": 633,
     "metadata": {},
     "output_type": "execute_result"
    }
   ],
   "source": [
    "X = []\n",
    "for i in range(1, T.shape[1] - 35):\n",
    "    X.append(T[0, i:i+21])\n",
    "X = np.array(X)\n",
    "X.shape"
   ]
  },
  {
   "cell_type": "code",
   "execution_count": 634,
   "metadata": {},
   "outputs": [
    {
     "data": {
      "text/plain": [
       "(4294, 1)"
      ]
     },
     "execution_count": 634,
     "metadata": {},
     "output_type": "execute_result"
    }
   ],
   "source": [
    "T = np.array(np.transpose(y))\n",
    "T = T[29:-7]\n",
    "T.shape"
   ]
  },
  {
   "cell_type": "code",
   "execution_count": 635,
   "metadata": {},
   "outputs": [
    {
     "data": {
      "text/plain": [
       "(array([71.97]),\n",
       " array([70.05, 71.77, 70.79, 70.8 , 71.73, 71.23, 72.06, 72.19, 73.07,\n",
       "        73.48, 73.44, 73.58, 73.86, 74.82, 74.53, 72.99, 73.43, 72.83,\n",
       "        71.25, 68.22, 68.45]))"
      ]
     },
     "execution_count": 635,
     "metadata": {},
     "output_type": "execute_result"
    }
   ],
   "source": [
    "(T[-1], X[-1])"
   ]
  },
  {
   "cell_type": "code",
   "execution_count": 637,
   "metadata": {},
   "outputs": [
    {
     "data": {
      "text/plain": [
       "[<matplotlib.lines.Line2D at 0x252c199e8>]"
      ]
     },
     "execution_count": 637,
     "metadata": {},
     "output_type": "execute_result"
    },
    {
     "data": {
      "image/png": "[encoded data removed]",
      "text/plain": [
       "<matplotlib.figure.Figure at 0x233c30b00>"
      ]
     },
     "metadata": {},
     "output_type": "display_data"
    }
   ],
   "source": [
    "plt.plot(T)"
   ]
  },
  {
   "cell_type": "code",
   "execution_count": 638,
   "metadata": {},
   "outputs": [
    {
     "data": {
      "text/plain": [
       "((3435, 21), (3435, 1), (859, 21), (859, 1))"
      ]
     },
     "execution_count": 638,
     "metadata": {},
     "output_type": "execute_result"
    }
   ],
   "source": [
    "nRows = X.shape[0]\n",
    "rows = np.arange(nRows)\n",
    "#np.random.shuffle(rows)\n",
    "nTrain = int(nRows * 0.8)\n",
    "trainRows = rows[:nTrain]\n",
    "testRows = rows[nTrain:]\n",
    "Xtrain, Ttrain = X[trainRows, :], T[trainRows, :]\n",
    "Xtest, Ttest = X[testRows, :], T[testRows, :]\n",
    "Xtrain.shape, Ttrain.shape, Xtest.shape, Ttest.shape"
   ]
  },
  {
   "cell_type": "code",
   "execution_count": 676,
   "metadata": {},
   "outputs": [],
   "source": [
    "# Number of stocks in training data\n",
    "n_stocks = Xtrain.shape[1]\n",
    "\n",
    "# Neurons\n",
    "n_neurons_1 = 1024\n",
    "n_neurons_2 = 512\n",
    "n_neurons_3 = 256\n",
    "n_neurons_4 = 128\n",
    "\n",
    "# Session\n",
    "net = tf.InteractiveSession()\n",
    "\n",
    "# Placeholder\n",
    "X = tf.placeholder(dtype=tf.float32, shape=[None, n_stocks])\n",
    "T = tf.placeholder(dtype=tf.float32, shape=[None, 1])\n",
    "\n",
    "# Initializers\n",
    "sigma = 1\n",
    "weight_initializer = tf.variance_scaling_initializer(mode=\"fan_avg\", distribution=\"uniform\", scale=sigma)\n",
    "bias_initializer = tf.zeros_initializer()\n",
    "\n",
    "# Hidden weights\n",
    "W_hidden_1 = tf.Variable(weight_initializer([n_stocks, n_neurons_1]))\n",
    "bias_hidden_1 = tf.Variable(bias_initializer([n_neurons_1]))\n",
    "W_hidden_4 = tf.Variable(weight_initializer([n_neurons_1, n_neurons_4]))\n",
    "bias_hidden_4 = tf.Variable(bias_initializer([n_neurons_4]))\n",
    "\n",
    "# Output weights\n",
    "W_out = tf.Variable(weight_initializer([n_neurons_4, 1]))\n",
    "bias_out = tf.Variable(bias_initializer([1]))\n",
    "\n",
    "# Hidden layer\n",
    "hidden_1 = tf.nn.relu(tf.add(tf.matmul(X, W_hidden_1), bias_hidden_1))\n",
    "hidden_4 = tf.nn.relu(tf.add(tf.matmul(hidden_1, W_hidden_4), bias_hidden_4))"
   ]
  },
  {
   "cell_type": "code",
   "execution_count": 677,
   "metadata": {},
   "outputs": [
    {
     "data": {
      "image/png": "[encoded data removed]",
      "text/plain": [
       "<matplotlib.figure.Figure at 0x1f66064a8>"
      ]
     },
     "metadata": {},
     "output_type": "display_data"
    }
   ],
   "source": [
    "# Output layer (transpose!)\n",
    "out = tf.transpose(tf.add(tf.matmul(hidden_4, W_out), bias_out))\n",
    "\n",
    "# Cost function\n",
    "mse = tf.reduce_mean(tf.squared_difference(out, T))\n",
    "\n",
    "# Optimizer\n",
    "opt = tf.train.AdamOptimizer().minimize(mse)\n",
    "\n",
    "# Init\n",
    "net.run(tf.global_variables_initializer())\n",
    "# Setup plot\n",
    "plt.ion()\n",
    "fig = plt.figure()\n",
    "ax1 = fig.add_subplot(111)\n",
    "line1, = ax1.plot(Ttest[:])\n",
    "line2, = ax1.plot(Ttest[:] * 0.5)\n",
    "plt.show()\n"
   ]
  },
  {
   "cell_type": "code",
   "execution_count": 678,
   "metadata": {},
   "outputs": [],
   "source": [
    "# Fit neural net\n",
    "batch_size = 20\n",
    "mse_train = []\n",
    "mse_test = []"
   ]
  },
  {
   "cell_type": "code",
   "execution_count": 667,
   "metadata": {},
   "outputs": [
    {
     "data": {
      "text/plain": [
       "((20, 21), (20, 1))"
      ]
     },
     "execution_count": 667,
     "metadata": {},
     "output_type": "execute_result"
    }
   ],
   "source": [
    "(batch_x.shape, batch_t.shape)"
   ]
  },
  {
   "cell_type": "code",
   "execution_count": 662,
   "metadata": {},
   "outputs": [
    {
     "data": {
      "text/plain": [
       "(<tf.Tensor 'Placeholder_48:0' shape=(?, 21) dtype=float32>,\n",
       " <tf.Tensor 'Placeholder_49:0' shape=(?,) dtype=float32>)"
      ]
     },
     "execution_count": 662,
     "metadata": {},
     "output_type": "execute_result"
    }
   ],
   "source": [
    "(X,T)"
   ]
  },
  {
   "cell_type": "code",
   "execution_count": 679,
   "metadata": {},
   "outputs": [
    {
     "name": "stdout",
     "output_type": "stream",
     "text": [
      "MSE Train:  nan\n",
      "MSE Test:  nan\n",
      "\n",
      "\n",
      "MSE Train:  nan\n",
      "MSE Test:  nan\n",
      "\n",
      "\n",
      "MSE Train:  nan\n",
      "MSE Test:  nan\n",
      "\n",
      "\n",
      "MSE Train:  nan\n",
      "MSE Test:  nan\n",
      "\n",
      "\n",
      "MSE Train:  nan\n",
      "MSE Test:  nan\n",
      "\n",
      "\n",
      "MSE Train:  nan\n",
      "MSE Test:  nan\n",
      "\n",
      "\n",
      "MSE Train:  nan\n",
      "MSE Test:  nan\n",
      "\n",
      "\n",
      "MSE Train:  nan\n",
      "MSE Test:  nan\n",
      "\n",
      "\n",
      "MSE Train:  nan\n",
      "MSE Test:  nan\n",
      "\n",
      "\n",
      "MSE Train:  nan\n",
      "MSE Test:  nan\n",
      "\n",
      "\n",
      "MSE Train:  nan\n",
      "MSE Test:  nan\n",
      "\n",
      "\n",
      "MSE Train:  nan\n",
      "MSE Test:  nan\n",
      "\n",
      "\n",
      "MSE Train:  nan\n",
      "MSE Test:  nan\n",
      "\n",
      "\n",
      "MSE Train:  nan\n",
      "MSE Test:  nan\n",
      "\n",
      "\n",
      "MSE Train:  nan\n",
      "MSE Test:  nan\n",
      "\n",
      "\n",
      "MSE Train:  nan\n",
      "MSE Test:  nan\n",
      "\n",
      "\n",
      "MSE Train:  nan\n",
      "MSE Test:  nan\n",
      "\n",
      "\n",
      "MSE Train:  nan\n",
      "MSE Test:  nan\n",
      "\n",
      "\n",
      "MSE Train:  nan\n",
      "MSE Test:  nan\n",
      "\n",
      "\n",
      "MSE Train:  nan\n",
      "MSE Test:  nan\n",
      "\n",
      "\n",
      "MSE Train:  nan\n",
      "MSE Test:  nan\n",
      "\n",
      "\n",
      "MSE Train:  nan\n",
      "MSE Test:  nan\n",
      "\n",
      "\n",
      "MSE Train:  nan\n",
      "MSE Test:  nan\n",
      "\n",
      "\n",
      "MSE Train:  nan\n",
      "MSE Test:  nan\n",
      "\n",
      "\n",
      "MSE Train:  nan\n",
      "MSE Test:  nan\n",
      "\n",
      "\n",
      "MSE Train:  nan\n",
      "MSE Test:  nan\n",
      "\n",
      "\n",
      "MSE Train:  nan\n",
      "MSE Test:  nan\n",
      "\n",
      "\n",
      "MSE Train:  nan\n",
      "MSE Test:  nan\n",
      "\n",
      "\n",
      "MSE Train:  nan\n",
      "MSE Test:  nan\n",
      "\n",
      "\n",
      "MSE Train:  nan\n",
      "MSE Test:  nan\n",
      "\n",
      "\n",
      "MSE Train:  nan\n",
      "MSE Test:  nan\n",
      "\n",
      "\n",
      "MSE Train:  nan\n",
      "MSE Test:  nan\n",
      "\n",
      "\n",
      "MSE Train:  nan\n",
      "MSE Test:  nan\n",
      "\n",
      "\n",
      "MSE Train:  nan\n",
      "MSE Test:  nan\n",
      "\n",
      "\n",
      "MSE Train:  nan\n",
      "MSE Test:  nan\n",
      "\n",
      "\n",
      "MSE Train:  nan\n",
      "MSE Test:  nan\n",
      "\n",
      "\n",
      "MSE Train:  nan\n",
      "MSE Test:  nan\n",
      "\n",
      "\n",
      "MSE Train:  nan\n",
      "MSE Test:  nan\n",
      "\n",
      "\n",
      "MSE Train:  nan\n",
      "MSE Test:  nan\n",
      "\n",
      "\n",
      "MSE Train:  nan\n",
      "MSE Test:  nan\n",
      "\n",
      "\n",
      "MSE Train:  nan\n",
      "MSE Test:  nan\n",
      "\n",
      "\n",
      "MSE Train:  nan\n",
      "MSE Test:  nan\n",
      "\n",
      "\n",
      "MSE Train:  nan\n",
      "MSE Test:  nan\n",
      "\n",
      "\n",
      "MSE Train:  nan\n",
      "MSE Test:  nan\n",
      "\n",
      "\n",
      "MSE Train:  nan\n",
      "MSE Test:  nan\n",
      "\n",
      "\n",
      "MSE Train:  nan\n",
      "MSE Test:  nan\n",
      "\n",
      "\n",
      "MSE Train:  nan\n",
      "MSE Test:  nan\n",
      "\n",
      "\n",
      "MSE Train:  nan\n",
      "MSE Test:  nan\n",
      "\n",
      "\n",
      "MSE Train:  nan\n",
      "MSE Test:  nan\n",
      "\n",
      "\n",
      "MSE Train:  nan\n",
      "MSE Test:  nan\n",
      "\n",
      "\n",
      "MSE Train:  nan\n",
      "MSE Test:  nan\n",
      "\n",
      "\n",
      "MSE Train:  nan\n",
      "MSE Test:  nan\n",
      "\n",
      "\n",
      "MSE Train:  nan\n",
      "MSE Test:  nan\n",
      "\n",
      "\n",
      "MSE Train:  nan\n",
      "MSE Test:  nan\n",
      "\n",
      "\n",
      "MSE Train:  nan\n",
      "MSE Test:  nan\n",
      "\n",
      "\n",
      "MSE Train:  nan\n",
      "MSE Test:  nan\n",
      "\n",
      "\n",
      "MSE Train:  nan\n",
      "MSE Test:  nan\n",
      "\n",
      "\n",
      "MSE Train:  nan\n",
      "MSE Test:  nan\n",
      "\n",
      "\n",
      "MSE Train:  nan\n",
      "MSE Test:  nan\n",
      "\n",
      "\n",
      "MSE Train:  nan\n",
      "MSE Test:  nan\n",
      "\n",
      "\n"
     ]
    }
   ],
   "source": [
    "# Run\n",
    "epochs = 15\n",
    "for e in range(epochs):\n",
    "\n",
    "    # Shuffle training data\n",
    "    shuffle_indices = np.random.permutation(np.arange(len(Ttrain)))\n",
    "    Xtrain = Xtrain[shuffle_indices]\n",
    "    Ttrain = Ttrain[shuffle_indices]\n",
    "\n",
    "    # Minibatch training\n",
    "    for i in range(0, len(Ttrain) // batch_size):\n",
    "        start = i * batch_size\n",
    "        batch_x = Xtrain[start:start + batch_size]\n",
    "        batch_t = Ttrain[start:start + batch_size]\n",
    "        # Run optimizer with batch\n",
    "        net.run(opt, feed_dict={X: batch_x, T: batch_t})\n",
    "\n",
    "        # Show progress\n",
    "        if np.mod(i, 50) == 0:\n",
    "            # MSE train and test\n",
    "            mse_train.append(net.run(mse, feed_dict={X: Xtrain, T: Ttrain}))\n",
    "            mse_test.append(net.run(mse, feed_dict={X: Xtest, T: Ttest}))\n",
    "            print('MSE Train: ', mse_train[-1])\n",
    "            print('MSE Test: ', mse_test[-1])\n",
    "            print('\\n')\n",
    "            # Prediction\n",
    "            pred = net.run(out, feed_dict={X: Xtest})\n",
    "            #line2.set_ydata(pred)\n",
    "            #plt.title('Epoch ' + str(e) + ', Batch ' + str(i))\n",
    "            #plt.pause(0.01)"
   ]
  }
 ],
 "metadata": {
  "kernelspec": {
   "display_name": "Python 3",
   "language": "python",
   "name": "python3"
  },
  "language_info": {
   "codemirror_mode": {
    "name": "ipython",
    "version": 3
   },
   "file_extension": ".py",
   "mimetype": "text/x-python",
   "name": "python",
   "nbconvert_exporter": "python",
   "pygments_lexer": "ipython3",
   "version": "3.6.2"
  }
 },
 "nbformat": 4,
 "nbformat_minor": 2
}
